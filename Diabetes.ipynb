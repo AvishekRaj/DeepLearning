{
  "nbformat": 4,
  "nbformat_minor": 0,
  "metadata": {
    "colab": {
      "name": "Diabetes.ipynb",
      "provenance": [],
      "authorship_tag": "ABX9TyNr9lSgxPPx48YxC2hy//Jb",
      "include_colab_link": true
    },
    "kernelspec": {
      "name": "python3",
      "display_name": "Python 3"
    }
  },
  "cells": [
    {
      "cell_type": "markdown",
      "metadata": {
        "id": "view-in-github",
        "colab_type": "text"
      },
      "source": [
        "<a href=\"https://colab.research.google.com/github/AvishekRaj/DeepLearning/blob/master/Diabetes.ipynb\" target=\"_parent\"><img src=\"https://colab.research.google.com/assets/colab-badge.svg\" alt=\"Open In Colab\"/></a>"
      ]
    },
    {
      "cell_type": "code",
      "metadata": {
        "id": "3xr17wDSWF-a",
        "colab_type": "code",
        "colab": {}
      },
      "source": [
        "from keras.models import Sequential\n",
        "from keras.layers import Dense\n",
        "import numpy as np"
      ],
      "execution_count": 0,
      "outputs": []
    },
    {
      "cell_type": "code",
      "metadata": {
        "id": "j4gBZwfXXKSV",
        "colab_type": "code",
        "colab": {}
      },
      "source": [
        "seed=7\n",
        "np.random.seed(seed)"
      ],
      "execution_count": 0,
      "outputs": []
    },
    {
      "cell_type": "code",
      "metadata": {
        "id": "eNH9h5eKXXZk",
        "colab_type": "code",
        "colab": {
          "resources": {
            "http://localhost:8080/nbextensions/google.colab/files.js": {
              "data": "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",
              "ok": true,
              "headers": [
                [
                  "content-type",
                  "application/javascript"
                ]
              ],
              "status": 200,
              "status_text": "OK"
            }
          },
          "base_uri": "https://localhost:8080/",
          "height": 77
        },
        "outputId": "549c3077-8595-4180-d1e2-3954a471d9a1"
      },
      "source": [
        "from google.colab import files\n",
        "uploaded=files.upload()"
      ],
      "execution_count": 6,
      "outputs": [
        {
          "output_type": "display_data",
          "data": {
            "text/html": [
              "\n",
              "     <input type=\"file\" id=\"files-1976647d-f11d-4ea2-bf90-9ef23a76389d\" name=\"files[]\" multiple disabled />\n",
              "     <output id=\"result-1976647d-f11d-4ea2-bf90-9ef23a76389d\">\n",
              "      Upload widget is only available when the cell has been executed in the\n",
              "      current browser session. Please rerun this cell to enable.\n",
              "      </output>\n",
              "      <script src=\"/nbextensions/google.colab/files.js\"></script> "
            ],
            "text/plain": [
              "<IPython.core.display.HTML object>"
            ]
          },
          "metadata": {
            "tags": []
          }
        },
        {
          "output_type": "stream",
          "text": [
            "Saving pima-indians-diabetes.csv to pima-indians-diabetes.csv\n"
          ],
          "name": "stdout"
        }
      ]
    },
    {
      "cell_type": "code",
      "metadata": {
        "id": "iISB2LKFcHO0",
        "colab_type": "code",
        "colab": {}
      },
      "source": [
        "dataset=np.loadtxt(\"pima-indians-diabetes.csv\",delimiter=\",\",skiprows=1)\n",
        "X=dataset[:,0:8]\n",
        "Y=dataset[:,8]"
      ],
      "execution_count": 0,
      "outputs": []
    },
    {
      "cell_type": "code",
      "metadata": {
        "id": "DZ7HO3n_cfzF",
        "colab_type": "code",
        "colab": {
          "base_uri": "https://localhost:8080/",
          "height": 147
        },
        "outputId": "d672280f-b43a-4416-ec1e-ad971fbf2521"
      },
      "source": [
        "model=Sequential()\n",
        "model.add(Dense(12,input_dim=8,init='uniform',activation='relu'))\n",
        "model.add(Dense(8,init='uniform',activation='relu'))\n",
        "model.add(Dense(1,init='uniform',activation='sigmoid'))"
      ],
      "execution_count": 11,
      "outputs": [
        {
          "output_type": "stream",
          "text": [
            "/usr/local/lib/python3.6/dist-packages/ipykernel_launcher.py:2: UserWarning: Update your `Dense` call to the Keras 2 API: `Dense(12, input_dim=8, activation=\"relu\", kernel_initializer=\"uniform\")`\n",
            "  \n",
            "/usr/local/lib/python3.6/dist-packages/ipykernel_launcher.py:3: UserWarning: Update your `Dense` call to the Keras 2 API: `Dense(8, activation=\"relu\", kernel_initializer=\"uniform\")`\n",
            "  This is separate from the ipykernel package so we can avoid doing imports until\n",
            "/usr/local/lib/python3.6/dist-packages/ipykernel_launcher.py:4: UserWarning: Update your `Dense` call to the Keras 2 API: `Dense(1, activation=\"sigmoid\", kernel_initializer=\"uniform\")`\n",
            "  after removing the cwd from sys.path.\n"
          ],
          "name": "stderr"
        }
      ]
    },
    {
      "cell_type": "code",
      "metadata": {
        "id": "-9uSTT2NcpMT",
        "colab_type": "code",
        "colab": {}
      },
      "source": [
        "model.compile(loss='binary_crossentropy',optimizer='adam',metrics=['accuracy'])"
      ],
      "execution_count": 0,
      "outputs": []
    },
    {
      "cell_type": "code",
      "metadata": {
        "id": "KyDjqe4mcwW0",
        "colab_type": "code",
        "colab": {
          "base_uri": "https://localhost:8080/",
          "height": 1000
        },
        "outputId": "34fe516b-35ab-43f0-f150-3042a1572dd3"
      },
      "source": [
        "model.fit(X,Y,nb_epoch=150,batch_size=10)"
      ],
      "execution_count": 14,
      "outputs": [
        {
          "output_type": "stream",
          "text": [
            "/usr/local/lib/python3.6/dist-packages/ipykernel_launcher.py:1: UserWarning: The `nb_epoch` argument in `fit` has been renamed `epochs`.\n",
            "  \"\"\"Entry point for launching an IPython kernel.\n"
          ],
          "name": "stderr"
        },
        {
          "output_type": "stream",
          "text": [
            "WARNING:tensorflow:From /usr/local/lib/python3.6/dist-packages/keras/backend/tensorflow_backend.py:1033: The name tf.assign_add is deprecated. Please use tf.compat.v1.assign_add instead.\n",
            "\n",
            "WARNING:tensorflow:From /usr/local/lib/python3.6/dist-packages/keras/backend/tensorflow_backend.py:1020: The name tf.assign is deprecated. Please use tf.compat.v1.assign instead.\n",
            "\n",
            "WARNING:tensorflow:From /usr/local/lib/python3.6/dist-packages/keras/backend/tensorflow_backend.py:3005: The name tf.Session is deprecated. Please use tf.compat.v1.Session instead.\n",
            "\n",
            "Epoch 1/150\n",
            "WARNING:tensorflow:From /usr/local/lib/python3.6/dist-packages/keras/backend/tensorflow_backend.py:190: The name tf.get_default_session is deprecated. Please use tf.compat.v1.get_default_session instead.\n",
            "\n",
            "WARNING:tensorflow:From /usr/local/lib/python3.6/dist-packages/keras/backend/tensorflow_backend.py:197: The name tf.ConfigProto is deprecated. Please use tf.compat.v1.ConfigProto instead.\n",
            "\n",
            "WARNING:tensorflow:From /usr/local/lib/python3.6/dist-packages/keras/backend/tensorflow_backend.py:207: The name tf.global_variables is deprecated. Please use tf.compat.v1.global_variables instead.\n",
            "\n",
            "WARNING:tensorflow:From /usr/local/lib/python3.6/dist-packages/keras/backend/tensorflow_backend.py:216: The name tf.is_variable_initialized is deprecated. Please use tf.compat.v1.is_variable_initialized instead.\n",
            "\n",
            "WARNING:tensorflow:From /usr/local/lib/python3.6/dist-packages/keras/backend/tensorflow_backend.py:223: The name tf.variables_initializer is deprecated. Please use tf.compat.v1.variables_initializer instead.\n",
            "\n",
            "767/767 [==============================] - 1s 1ms/step - loss: 0.6830 - acc: 0.6310\n",
            "Epoch 2/150\n",
            "767/767 [==============================] - 0s 126us/step - loss: 0.6664 - acc: 0.6519\n",
            "Epoch 3/150\n",
            "767/767 [==============================] - 0s 128us/step - loss: 0.6575 - acc: 0.6532\n",
            "Epoch 4/150\n",
            "767/767 [==============================] - 0s 132us/step - loss: 0.6452 - acc: 0.6623\n",
            "Epoch 5/150\n",
            "767/767 [==============================] - 0s 128us/step - loss: 0.6294 - acc: 0.6545\n",
            "Epoch 6/150\n",
            "767/767 [==============================] - 0s 132us/step - loss: 0.6243 - acc: 0.6649\n",
            "Epoch 7/150\n",
            "767/767 [==============================] - 0s 143us/step - loss: 0.6051 - acc: 0.6780\n",
            "Epoch 8/150\n",
            "767/767 [==============================] - 0s 123us/step - loss: 0.6000 - acc: 0.6767\n",
            "Epoch 9/150\n",
            "767/767 [==============================] - 0s 127us/step - loss: 0.5946 - acc: 0.6897\n",
            "Epoch 10/150\n",
            "767/767 [==============================] - 0s 125us/step - loss: 0.5905 - acc: 0.6845\n",
            "Epoch 11/150\n",
            "767/767 [==============================] - 0s 126us/step - loss: 0.5856 - acc: 0.6884\n",
            "Epoch 12/150\n",
            "767/767 [==============================] - 0s 130us/step - loss: 0.5845 - acc: 0.6936\n",
            "Epoch 13/150\n",
            "767/767 [==============================] - 0s 133us/step - loss: 0.5805 - acc: 0.6962\n",
            "Epoch 14/150\n",
            "767/767 [==============================] - 0s 129us/step - loss: 0.5805 - acc: 0.7014\n",
            "Epoch 15/150\n",
            "767/767 [==============================] - 0s 127us/step - loss: 0.5787 - acc: 0.6949\n",
            "Epoch 16/150\n",
            "767/767 [==============================] - 0s 141us/step - loss: 0.5805 - acc: 0.7066\n",
            "Epoch 17/150\n",
            "767/767 [==============================] - 0s 129us/step - loss: 0.5716 - acc: 0.7001\n",
            "Epoch 18/150\n",
            "767/767 [==============================] - 0s 125us/step - loss: 0.5716 - acc: 0.7093\n",
            "Epoch 19/150\n",
            "767/767 [==============================] - 0s 136us/step - loss: 0.5723 - acc: 0.6988\n",
            "Epoch 20/150\n",
            "767/767 [==============================] - 0s 126us/step - loss: 0.5711 - acc: 0.7093\n",
            "Epoch 21/150\n",
            "767/767 [==============================] - 0s 150us/step - loss: 0.5658 - acc: 0.7210\n",
            "Epoch 22/150\n",
            "767/767 [==============================] - 0s 149us/step - loss: 0.5611 - acc: 0.7171\n",
            "Epoch 23/150\n",
            "767/767 [==============================] - 0s 126us/step - loss: 0.5610 - acc: 0.7249\n",
            "Epoch 24/150\n",
            "767/767 [==============================] - 0s 126us/step - loss: 0.5633 - acc: 0.7027\n",
            "Epoch 25/150\n",
            "767/767 [==============================] - 0s 136us/step - loss: 0.5604 - acc: 0.7080\n",
            "Epoch 26/150\n",
            "767/767 [==============================] - 0s 133us/step - loss: 0.5547 - acc: 0.7314\n",
            "Epoch 27/150\n",
            "767/767 [==============================] - 0s 128us/step - loss: 0.5541 - acc: 0.7314\n",
            "Epoch 28/150\n",
            "767/767 [==============================] - 0s 125us/step - loss: 0.5563 - acc: 0.7236\n",
            "Epoch 29/150\n",
            "767/767 [==============================] - 0s 165us/step - loss: 0.5495 - acc: 0.7262\n",
            "Epoch 30/150\n",
            "767/767 [==============================] - 0s 127us/step - loss: 0.5491 - acc: 0.7301\n",
            "Epoch 31/150\n",
            "767/767 [==============================] - 0s 134us/step - loss: 0.5507 - acc: 0.7275\n",
            "Epoch 32/150\n",
            "767/767 [==============================] - 0s 144us/step - loss: 0.5454 - acc: 0.7262\n",
            "Epoch 33/150\n",
            "767/767 [==============================] - 0s 130us/step - loss: 0.5424 - acc: 0.7327\n",
            "Epoch 34/150\n",
            "767/767 [==============================] - 0s 134us/step - loss: 0.5400 - acc: 0.7419\n",
            "Epoch 35/150\n",
            "767/767 [==============================] - 0s 143us/step - loss: 0.5374 - acc: 0.7366\n",
            "Epoch 36/150\n",
            "767/767 [==============================] - 0s 132us/step - loss: 0.5355 - acc: 0.7497\n",
            "Epoch 37/150\n",
            "767/767 [==============================] - 0s 124us/step - loss: 0.5360 - acc: 0.7405\n",
            "Epoch 38/150\n",
            "767/767 [==============================] - 0s 136us/step - loss: 0.5360 - acc: 0.7353\n",
            "Epoch 39/150\n",
            "767/767 [==============================] - 0s 141us/step - loss: 0.5319 - acc: 0.7432\n",
            "Epoch 40/150\n",
            "767/767 [==============================] - 0s 131us/step - loss: 0.5275 - acc: 0.7392\n",
            "Epoch 41/150\n",
            "767/767 [==============================] - 0s 132us/step - loss: 0.5256 - acc: 0.7536\n",
            "Epoch 42/150\n",
            "767/767 [==============================] - 0s 123us/step - loss: 0.5223 - acc: 0.7327\n",
            "Epoch 43/150\n",
            "767/767 [==============================] - 0s 142us/step - loss: 0.5344 - acc: 0.7379\n",
            "Epoch 44/150\n",
            "767/767 [==============================] - 0s 133us/step - loss: 0.5215 - acc: 0.7419\n",
            "Epoch 45/150\n",
            "767/767 [==============================] - 0s 129us/step - loss: 0.5221 - acc: 0.7484\n",
            "Epoch 46/150\n",
            "767/767 [==============================] - 0s 152us/step - loss: 0.5173 - acc: 0.7536\n",
            "Epoch 47/150\n",
            "767/767 [==============================] - 0s 147us/step - loss: 0.5189 - acc: 0.7471\n",
            "Epoch 48/150\n",
            "767/767 [==============================] - 0s 129us/step - loss: 0.5200 - acc: 0.7458\n",
            "Epoch 49/150\n",
            "767/767 [==============================] - 0s 151us/step - loss: 0.5216 - acc: 0.7419\n",
            "Epoch 50/150\n",
            "767/767 [==============================] - 0s 136us/step - loss: 0.5137 - acc: 0.7562\n",
            "Epoch 51/150\n",
            "767/767 [==============================] - 0s 136us/step - loss: 0.5183 - acc: 0.7523\n",
            "Epoch 52/150\n",
            "767/767 [==============================] - 0s 136us/step - loss: 0.5127 - acc: 0.7549\n",
            "Epoch 53/150\n",
            "767/767 [==============================] - 0s 129us/step - loss: 0.5117 - acc: 0.7549\n",
            "Epoch 54/150\n",
            "767/767 [==============================] - 0s 131us/step - loss: 0.5104 - acc: 0.7627\n",
            "Epoch 55/150\n",
            "767/767 [==============================] - 0s 148us/step - loss: 0.5142 - acc: 0.7510\n",
            "Epoch 56/150\n",
            "767/767 [==============================] - 0s 130us/step - loss: 0.5091 - acc: 0.7471\n",
            "Epoch 57/150\n",
            "767/767 [==============================] - 0s 131us/step - loss: 0.5118 - acc: 0.7536\n",
            "Epoch 58/150\n",
            "767/767 [==============================] - 0s 138us/step - loss: 0.5084 - acc: 0.7484\n",
            "Epoch 59/150\n",
            "767/767 [==============================] - 0s 143us/step - loss: 0.5151 - acc: 0.7405\n",
            "Epoch 60/150\n",
            "767/767 [==============================] - 0s 144us/step - loss: 0.5073 - acc: 0.7536\n",
            "Epoch 61/150\n",
            "767/767 [==============================] - 0s 135us/step - loss: 0.5084 - acc: 0.7601\n",
            "Epoch 62/150\n",
            "767/767 [==============================] - 0s 146us/step - loss: 0.5003 - acc: 0.7653\n",
            "Epoch 63/150\n",
            "767/767 [==============================] - 0s 134us/step - loss: 0.5022 - acc: 0.7588\n",
            "Epoch 64/150\n",
            "767/767 [==============================] - 0s 129us/step - loss: 0.4995 - acc: 0.7666\n",
            "Epoch 65/150\n",
            "767/767 [==============================] - 0s 128us/step - loss: 0.5033 - acc: 0.7614\n",
            "Epoch 66/150\n",
            "767/767 [==============================] - 0s 150us/step - loss: 0.5020 - acc: 0.7523\n",
            "Epoch 67/150\n",
            "767/767 [==============================] - 0s 134us/step - loss: 0.4990 - acc: 0.7549\n",
            "Epoch 68/150\n",
            "767/767 [==============================] - 0s 149us/step - loss: 0.5110 - acc: 0.7445\n",
            "Epoch 69/150\n",
            "767/767 [==============================] - 0s 154us/step - loss: 0.5054 - acc: 0.7562\n",
            "Epoch 70/150\n",
            "767/767 [==============================] - 0s 133us/step - loss: 0.4950 - acc: 0.7718\n",
            "Epoch 71/150\n",
            "767/767 [==============================] - 0s 131us/step - loss: 0.4981 - acc: 0.7614\n",
            "Epoch 72/150\n",
            "767/767 [==============================] - 0s 132us/step - loss: 0.4932 - acc: 0.7666\n",
            "Epoch 73/150\n",
            "767/767 [==============================] - 0s 123us/step - loss: 0.4912 - acc: 0.7692\n",
            "Epoch 74/150\n",
            "767/767 [==============================] - 0s 129us/step - loss: 0.5017 - acc: 0.7484\n",
            "Epoch 75/150\n",
            "767/767 [==============================] - 0s 132us/step - loss: 0.4992 - acc: 0.7718\n",
            "Epoch 76/150\n",
            "767/767 [==============================] - 0s 133us/step - loss: 0.4976 - acc: 0.7666\n",
            "Epoch 77/150\n",
            "767/767 [==============================] - 0s 134us/step - loss: 0.4945 - acc: 0.7614\n",
            "Epoch 78/150\n",
            "767/767 [==============================] - 0s 132us/step - loss: 0.4961 - acc: 0.7666\n",
            "Epoch 79/150\n",
            "767/767 [==============================] - 0s 129us/step - loss: 0.4886 - acc: 0.7627\n",
            "Epoch 80/150\n",
            "767/767 [==============================] - 0s 123us/step - loss: 0.4918 - acc: 0.7640\n",
            "Epoch 81/150\n",
            "767/767 [==============================] - 0s 132us/step - loss: 0.4919 - acc: 0.7419\n",
            "Epoch 82/150\n",
            "767/767 [==============================] - 0s 132us/step - loss: 0.4888 - acc: 0.7562\n",
            "Epoch 83/150\n",
            "767/767 [==============================] - 0s 124us/step - loss: 0.4905 - acc: 0.7627\n",
            "Epoch 84/150\n",
            "767/767 [==============================] - 0s 125us/step - loss: 0.4996 - acc: 0.7653\n",
            "Epoch 85/150\n",
            "767/767 [==============================] - 0s 129us/step - loss: 0.4873 - acc: 0.7562\n",
            "Epoch 86/150\n",
            "767/767 [==============================] - 0s 147us/step - loss: 0.4855 - acc: 0.7771\n",
            "Epoch 87/150\n",
            "767/767 [==============================] - 0s 122us/step - loss: 0.4915 - acc: 0.7666\n",
            "Epoch 88/150\n",
            "767/767 [==============================] - 0s 126us/step - loss: 0.4877 - acc: 0.7757\n",
            "Epoch 89/150\n",
            "767/767 [==============================] - 0s 133us/step - loss: 0.4886 - acc: 0.7692\n",
            "Epoch 90/150\n",
            "767/767 [==============================] - 0s 129us/step - loss: 0.4818 - acc: 0.7653\n",
            "Epoch 91/150\n",
            "767/767 [==============================] - 0s 133us/step - loss: 0.4871 - acc: 0.7640\n",
            "Epoch 92/150\n",
            "767/767 [==============================] - 0s 172us/step - loss: 0.4865 - acc: 0.7731\n",
            "Epoch 93/150\n",
            "767/767 [==============================] - 0s 134us/step - loss: 0.4893 - acc: 0.7549\n",
            "Epoch 94/150\n",
            "767/767 [==============================] - 0s 133us/step - loss: 0.4831 - acc: 0.7679\n",
            "Epoch 95/150\n",
            "767/767 [==============================] - 0s 133us/step - loss: 0.4815 - acc: 0.7692\n",
            "Epoch 96/150\n",
            "767/767 [==============================] - 0s 130us/step - loss: 0.4850 - acc: 0.7640\n",
            "Epoch 97/150\n",
            "767/767 [==============================] - 0s 124us/step - loss: 0.4786 - acc: 0.7771\n",
            "Epoch 98/150\n",
            "767/767 [==============================] - 0s 132us/step - loss: 0.4811 - acc: 0.7705\n",
            "Epoch 99/150\n",
            "767/767 [==============================] - 0s 147us/step - loss: 0.4835 - acc: 0.7810\n",
            "Epoch 100/150\n",
            "767/767 [==============================] - 0s 131us/step - loss: 0.4832 - acc: 0.7692\n",
            "Epoch 101/150\n",
            "767/767 [==============================] - 0s 136us/step - loss: 0.4820 - acc: 0.7797\n",
            "Epoch 102/150\n",
            "767/767 [==============================] - 0s 136us/step - loss: 0.4824 - acc: 0.7692\n",
            "Epoch 103/150\n",
            "767/767 [==============================] - 0s 130us/step - loss: 0.4803 - acc: 0.7849\n",
            "Epoch 104/150\n",
            "767/767 [==============================] - 0s 130us/step - loss: 0.4796 - acc: 0.7640\n",
            "Epoch 105/150\n",
            "767/767 [==============================] - 0s 136us/step - loss: 0.4856 - acc: 0.7614\n",
            "Epoch 106/150\n",
            "767/767 [==============================] - 0s 143us/step - loss: 0.4759 - acc: 0.7744\n",
            "Epoch 107/150\n",
            "767/767 [==============================] - 0s 135us/step - loss: 0.4779 - acc: 0.7757\n",
            "Epoch 108/150\n",
            "767/767 [==============================] - 0s 131us/step - loss: 0.4847 - acc: 0.7679\n",
            "Epoch 109/150\n",
            "767/767 [==============================] - 0s 141us/step - loss: 0.4788 - acc: 0.7757\n",
            "Epoch 110/150\n",
            "767/767 [==============================] - 0s 135us/step - loss: 0.4788 - acc: 0.7731\n",
            "Epoch 111/150\n",
            "767/767 [==============================] - 0s 126us/step - loss: 0.4805 - acc: 0.7692\n",
            "Epoch 112/150\n",
            "767/767 [==============================] - 0s 154us/step - loss: 0.4751 - acc: 0.7757\n",
            "Epoch 113/150\n",
            "767/767 [==============================] - 0s 137us/step - loss: 0.4886 - acc: 0.7757\n",
            "Epoch 114/150\n",
            "767/767 [==============================] - 0s 126us/step - loss: 0.4738 - acc: 0.7784\n",
            "Epoch 115/150\n",
            "767/767 [==============================] - 0s 138us/step - loss: 0.4762 - acc: 0.7705\n",
            "Epoch 116/150\n",
            "767/767 [==============================] - 0s 131us/step - loss: 0.4750 - acc: 0.7784\n",
            "Epoch 117/150\n",
            "767/767 [==============================] - 0s 127us/step - loss: 0.4716 - acc: 0.7744\n",
            "Epoch 118/150\n",
            "767/767 [==============================] - 0s 135us/step - loss: 0.4817 - acc: 0.7640\n",
            "Epoch 119/150\n",
            "767/767 [==============================] - 0s 131us/step - loss: 0.4758 - acc: 0.7692\n",
            "Epoch 120/150\n",
            "767/767 [==============================] - 0s 128us/step - loss: 0.4706 - acc: 0.7797\n",
            "Epoch 121/150\n",
            "767/767 [==============================] - 0s 169us/step - loss: 0.4743 - acc: 0.7705\n",
            "Epoch 122/150\n",
            "767/767 [==============================] - 0s 131us/step - loss: 0.4700 - acc: 0.7731\n",
            "Epoch 123/150\n",
            "767/767 [==============================] - 0s 133us/step - loss: 0.4750 - acc: 0.7744\n",
            "Epoch 124/150\n",
            "767/767 [==============================] - 0s 148us/step - loss: 0.4725 - acc: 0.7653\n",
            "Epoch 125/150\n",
            "767/767 [==============================] - 0s 140us/step - loss: 0.4712 - acc: 0.7771\n",
            "Epoch 126/150\n",
            "767/767 [==============================] - 0s 134us/step - loss: 0.4722 - acc: 0.7627\n",
            "Epoch 127/150\n",
            "767/767 [==============================] - 0s 130us/step - loss: 0.4641 - acc: 0.7744\n",
            "Epoch 128/150\n",
            "767/767 [==============================] - 0s 151us/step - loss: 0.4687 - acc: 0.7823\n",
            "Epoch 129/150\n",
            "767/767 [==============================] - 0s 150us/step - loss: 0.4665 - acc: 0.7810\n",
            "Epoch 130/150\n",
            "767/767 [==============================] - 0s 132us/step - loss: 0.4693 - acc: 0.7810\n",
            "Epoch 131/150\n",
            "767/767 [==============================] - 0s 133us/step - loss: 0.4683 - acc: 0.7731\n",
            "Epoch 132/150\n",
            "767/767 [==============================] - 0s 153us/step - loss: 0.4714 - acc: 0.7744\n",
            "Epoch 133/150\n",
            "767/767 [==============================] - 0s 132us/step - loss: 0.4661 - acc: 0.7797\n",
            "Epoch 134/150\n",
            "767/767 [==============================] - 0s 132us/step - loss: 0.4753 - acc: 0.7588\n",
            "Epoch 135/150\n",
            "767/767 [==============================] - 0s 155us/step - loss: 0.4707 - acc: 0.7705\n",
            "Epoch 136/150\n",
            "767/767 [==============================] - 0s 133us/step - loss: 0.4676 - acc: 0.7705\n",
            "Epoch 137/150\n",
            "767/767 [==============================] - 0s 126us/step - loss: 0.4678 - acc: 0.7875\n",
            "Epoch 138/150\n",
            "767/767 [==============================] - 0s 134us/step - loss: 0.4712 - acc: 0.7810\n",
            "Epoch 139/150\n",
            "767/767 [==============================] - 0s 132us/step - loss: 0.4726 - acc: 0.7757\n",
            "Epoch 140/150\n",
            "767/767 [==============================] - 0s 133us/step - loss: 0.4683 - acc: 0.7810\n",
            "Epoch 141/150\n",
            "767/767 [==============================] - 0s 151us/step - loss: 0.4717 - acc: 0.7797\n",
            "Epoch 142/150\n",
            "767/767 [==============================] - 0s 134us/step - loss: 0.4718 - acc: 0.7705\n",
            "Epoch 143/150\n",
            "767/767 [==============================] - 0s 133us/step - loss: 0.4612 - acc: 0.7927\n",
            "Epoch 144/150\n",
            "767/767 [==============================] - 0s 143us/step - loss: 0.4608 - acc: 0.7810\n",
            "Epoch 145/150\n",
            "767/767 [==============================] - 0s 142us/step - loss: 0.4732 - acc: 0.7810\n",
            "Epoch 146/150\n",
            "767/767 [==============================] - 0s 127us/step - loss: 0.4619 - acc: 0.7823\n",
            "Epoch 147/150\n",
            "767/767 [==============================] - 0s 128us/step - loss: 0.4747 - acc: 0.7744\n",
            "Epoch 148/150\n",
            "767/767 [==============================] - 0s 150us/step - loss: 0.4624 - acc: 0.7849\n",
            "Epoch 149/150\n",
            "767/767 [==============================] - 0s 136us/step - loss: 0.4616 - acc: 0.7810\n",
            "Epoch 150/150\n",
            "767/767 [==============================] - 0s 131us/step - loss: 0.4606 - acc: 0.7888\n"
          ],
          "name": "stdout"
        },
        {
          "output_type": "execute_result",
          "data": {
            "text/plain": [
              "<keras.callbacks.History at 0x7f540e125c50>"
            ]
          },
          "metadata": {
            "tags": []
          },
          "execution_count": 14
        }
      ]
    }
  ]
}